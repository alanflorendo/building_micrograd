{
  "nbformat": 4,
  "nbformat_minor": 0,
  "metadata": {
    "colab": {
      "provenance": [],
      "authorship_tag": "ABX9TyNunffAvyw0GfqFZX961Pgr",
      "include_colab_link": true
    },
    "kernelspec": {
      "name": "python3",
      "display_name": "Python 3"
    },
    "language_info": {
      "name": "python"
    }
  },
  "cells": [
    {
      "cell_type": "markdown",
      "metadata": {
        "id": "view-in-github",
        "colab_type": "text"
      },
      "source": [
        "<a href=\"https://colab.research.google.com/github/alanflorendo/building_micrograd/blob/main/01_migrograd_part_2.ipynb\" target=\"_parent\"><img src=\"https://colab.research.google.com/assets/colab-badge.svg\" alt=\"Open In Colab\"/></a>"
      ]
    },
    {
      "cell_type": "code",
      "source": [
        "import math\n",
        "import numpy as np"
      ],
      "metadata": {
        "id": "Gnogcj3s6dcw"
      },
      "execution_count": 2,
      "outputs": []
    },
    {
      "cell_type": "code",
      "execution_count": 149,
      "metadata": {
        "id": "4Wblbl8VKVsS"
      },
      "outputs": [],
      "source": [
        "class Value:\n",
        "\n",
        "  def __init__(self, data, _children=(), _op='', label=''):\n",
        "    self.data = data\n",
        "    self.grad = 0 # initially assume there is no effect on the loss function\n",
        "    self._backward = lambda: None # base case: this does nothing (eg, for a leaf node)\n",
        "    self._prev = set(_children)\n",
        "    self._op = _op\n",
        "    self.label = label\n",
        "\n",
        "  def __repr__(self):\n",
        "    return f\"Value(data={self.data})\"\n",
        "\n",
        "  def __add__(self, other):\n",
        "    other = other if isinstance(other, Value) else Value(other)\n",
        "    out = Value(self.data + other.data, (self, other), '+')\n",
        "\n",
        "    def _backward():\n",
        "      self.grad += 1.0 * out.grad\n",
        "      other.grad += 1.0 * out.grad\n",
        "    out._backward = _backward\n",
        "    return out\n",
        "\n",
        "  def __radd__(self, other): # other + self\n",
        "    return self + other\n",
        "\n",
        "  def __neg__(self):\n",
        "    return self * -1\n",
        "\n",
        "  def __sub__(self, other): # a - b\n",
        "    return self + (-other)\n",
        "\n",
        "  def __mul__(self, other):\n",
        "    other = other if isinstance(other, Value) else Value(other)\n",
        "    out = Value(self.data * other.data, (self, other), '*')\n",
        "\n",
        "    def _backward():\n",
        "      self.grad += other.data * out.grad\n",
        "      other.grad += self.data * out.grad\n",
        "    out._backward = _backward\n",
        "\n",
        "    return out\n",
        "\n",
        "  def __rmul__(self, other):\n",
        "    return self * other\n",
        "\n",
        "  def __pow__(self, other): # x ** k\n",
        "    assert isinstance(other, (int, float)), \"only supporting int/float powers for now\"\n",
        "    out = Value(self.data ** other, (self,), f\"**{other}\")\n",
        "\n",
        "    def _backward():\n",
        "      self.grad += other * (self.data ** (other-1)) * out.grad\n",
        "    out._backward = _backward\n",
        "\n",
        "    return out\n",
        "\n",
        "  def __truediv__(self, other): # self / other\n",
        "    return self * other**-1\n",
        "\n",
        "  def tanh(self):\n",
        "    x = self.data\n",
        "    t = (math.exp(2*x) - 1) / (math.exp(2*x) + 1)\n",
        "    out = Value(t, (self, ), 'tanh')\n",
        "\n",
        "    def _backward():\n",
        "      self.grad += (1 - t**2) * out.grad\n",
        "    out._backward = _backward\n",
        "\n",
        "    return out\n",
        "\n",
        "  def exp(self):\n",
        "    \"\"\"e to the power of x\"\"\"\n",
        "    x = self.data\n",
        "    out = Value(math.exp(x), (self, ), 'exp')\n",
        "\n",
        "    def _backward():\n",
        "      self.grad += out.data * out.grad # dy/e^x is (famously) simply e^x\n",
        "    out._backward = _backward\n",
        "\n",
        "    return out\n",
        "\n",
        "  def backward(self):\n",
        "    topo = []\n",
        "    visited = set()\n",
        "    def build_topo(v):\n",
        "      if v not in visited:\n",
        "        visited.add(v)\n",
        "        for child in v._prev:\n",
        "          build_topo(child)\n",
        "        topo.append(v)\n",
        "    build_topo(self)\n",
        "\n",
        "    self.grad = 1.0\n",
        "    for node in reversed(topo):\n",
        "      node._backward()\n"
      ]
    },
    {
      "cell_type": "code",
      "source": [
        "from graphviz import Digraph\n",
        "\n",
        "def trace(root):\n",
        "  # builds a set of all nodes and edges in a graph\n",
        "  nodes, edges = set(), set()\n",
        "  def build(v):\n",
        "    if v not in nodes:\n",
        "      nodes.add(v)\n",
        "      for child in v._prev:\n",
        "        edges.add((child, v))\n",
        "        build(child)\n",
        "  build(root)\n",
        "  return nodes, edges"
      ],
      "metadata": {
        "id": "eFzlvzggL-fe"
      },
      "execution_count": 4,
      "outputs": []
    },
    {
      "cell_type": "code",
      "source": [
        "def draw_dot(root):\n",
        "  dot = Digraph(format='svg', graph_attr={'rankdir': 'LR'}) # LR = left to right\n",
        "\n",
        "  nodes, edges = trace(root)\n",
        "  for n in nodes:\n",
        "    uid = str(id(n))\n",
        "    \n",
        "    # for any value in the graph, create a rectangle ('record') node for it\n",
        "    dot.node(name=uid, label=\"{ %s | data %.4f | grad %.4f }\" % (n.label, n.data, n.grad), shape='record')\n",
        "\n",
        "    if n._op:\n",
        "      # if this value is a result of some operation, create an op node for it\n",
        "      dot.node(name = uid + n._op, label = n._op)\n",
        "      # and connect this node to it\n",
        "      dot.edge(uid + n._op, uid)\n",
        "  for n1, n2 in edges:\n",
        "    # connect n1 to the op node of n2\n",
        "    dot.edge(str(id(n1)), str(id(n2)) + n2._op)\n",
        "\n",
        "  return dot"
      ],
      "metadata": {
        "id": "a48KiYe8L-h1"
      },
      "execution_count": 5,
      "outputs": []
    },
    {
      "cell_type": "code",
      "source": [
        "# inputs x1, x2\n",
        "x1 = Value(2.0, label='x1')\n",
        "x2 = Value(0.0, label='x2')\n",
        "#weights w1, w2\n",
        "w1 = Value(-3.0, label='w1')\n",
        "w2 = Value(1.0, label='w2')\n",
        "# bias of the neuron\n",
        "b = Value(6.8813735870195432, label='b')\n",
        "#x1*w1 + x2*w2 + b\n",
        "x1w1 = x1*w1; x1w1.label = 'x1w1'\n",
        "x2w2 = x2*w2; x2w2.label = 'x2w2'\n",
        "x1w1x2w2 = x1w1 + x2w2; x1w1x2w2.label = 'x1w1x2w2'\n",
        "n = x1w1x2w2 + b; n.label='n'\n",
        "# o = n.tanh()\n",
        "e = (2*n).exp()\n",
        "o = (e - 1) / (e + 1)\n",
        "o.label='o'\n"
      ],
      "metadata": {
        "id": "U_3dvGlI46bn"
      },
      "execution_count": 28,
      "outputs": []
    },
    {
      "cell_type": "code",
      "source": [
        "o.backward()"
      ],
      "metadata": {
        "id": "hkr-E4K2BDL1"
      },
      "execution_count": 30,
      "outputs": []
    },
    {
      "cell_type": "code",
      "source": [
        "draw_dot(o)"
      ],
      "metadata": {
        "colab": {
          "base_uri": "https://localhost:8080/",
          "height": 360
        },
        "id": "G7CLIidk46ds",
        "outputId": "ead43cab-fa83-4c85-a450-a970cba66a0e"
      },
      "execution_count": 31,
      "outputs": [
        {
          "output_type": "execute_result",
          "data": {
            "text/plain": [
              "<graphviz.dot.Digraph at 0x7f21b2434c40>"
            ],
            "image/svg+xml": "<?xml version=\"1.0\" encoding=\"UTF-8\" standalone=\"no\"?>\n<!DOCTYPE svg PUBLIC \"-//W3C//DTD SVG 1.1//EN\"\n \"http://www.w3.org/Graphics/SVG/1.1/DTD/svg11.dtd\">\n<!-- Generated by graphviz version 2.43.0 (0)\n -->\n<!-- Title: %3 Pages: 1 -->\n<svg width=\"2909pt\" height=\"239pt\"\n viewBox=\"0.00 0.00 2909.00 239.00\" xmlns=\"http://www.w3.org/2000/svg\" xmlns:xlink=\"http://www.w3.org/1999/xlink\">\n<g id=\"graph0\" class=\"graph\" transform=\"scale(1 1) rotate(0) translate(4 235)\">\n<title>%3</title>\n<polygon fill=\"white\" stroke=\"transparent\" points=\"-4,4 -4,-235 2905,-235 2905,4 -4,4\"/>\n<!-- 139782701087232 -->\n<g id=\"node1\" class=\"node\">\n<title>139782701087232</title>\n<polygon fill=\"none\" stroke=\"black\" points=\"0,-194.5 0,-230.5 200,-230.5 200,-194.5 0,-194.5\"/>\n<text text-anchor=\"middle\" x=\"16.5\" y=\"-208.8\" font-family=\"Times,serif\" font-size=\"14.00\">w1</text>\n<polyline fill=\"none\" stroke=\"black\" points=\"33,-194.5 33,-230.5 \"/>\n<text text-anchor=\"middle\" x=\"75.5\" y=\"-208.8\" font-family=\"Times,serif\" font-size=\"14.00\">data &#45;3.0000</text>\n<polyline fill=\"none\" stroke=\"black\" points=\"118,-194.5 118,-230.5 \"/>\n<text text-anchor=\"middle\" x=\"159\" y=\"-208.8\" font-family=\"Times,serif\" font-size=\"14.00\">grad 1.0000</text>\n</g>\n<!-- 139783208229904* -->\n<g id=\"node3\" class=\"node\">\n<title>139783208229904*</title>\n<ellipse fill=\"none\" stroke=\"black\" cx=\"263\" cy=\"-157.5\" rx=\"27\" ry=\"18\"/>\n<text text-anchor=\"middle\" x=\"263\" y=\"-153.8\" font-family=\"Times,serif\" font-size=\"14.00\">*</text>\n</g>\n<!-- 139782701087232&#45;&gt;139783208229904* -->\n<g id=\"edge22\" class=\"edge\">\n<title>139782701087232&#45;&gt;139783208229904*</title>\n<path fill=\"none\" stroke=\"black\" d=\"M172.53,-194.44C181.84,-191.67 191.2,-188.67 200,-185.5 210.53,-181.71 221.75,-176.9 231.72,-172.33\"/>\n<polygon fill=\"black\" stroke=\"black\" points=\"233.25,-175.48 240.82,-168.07 230.28,-169.14 233.25,-175.48\"/>\n</g>\n<!-- 139783208229904 -->\n<g id=\"node2\" class=\"node\">\n<title>139783208229904</title>\n<polygon fill=\"none\" stroke=\"black\" points=\"326,-139.5 326,-175.5 540,-175.5 540,-139.5 326,-139.5\"/>\n<text text-anchor=\"middle\" x=\"349.5\" y=\"-153.8\" font-family=\"Times,serif\" font-size=\"14.00\">x1w1</text>\n<polyline fill=\"none\" stroke=\"black\" points=\"373,-139.5 373,-175.5 \"/>\n<text text-anchor=\"middle\" x=\"415.5\" y=\"-153.8\" font-family=\"Times,serif\" font-size=\"14.00\">data &#45;6.0000</text>\n<polyline fill=\"none\" stroke=\"black\" points=\"458,-139.5 458,-175.5 \"/>\n<text text-anchor=\"middle\" x=\"499\" y=\"-153.8\" font-family=\"Times,serif\" font-size=\"14.00\">grad 0.5000</text>\n</g>\n<!-- 139783208230336+ -->\n<g id=\"node26\" class=\"node\">\n<title>139783208230336+</title>\n<ellipse fill=\"none\" stroke=\"black\" cx=\"603\" cy=\"-129.5\" rx=\"27\" ry=\"18\"/>\n<text text-anchor=\"middle\" x=\"603\" y=\"-125.8\" font-family=\"Times,serif\" font-size=\"14.00\">+</text>\n</g>\n<!-- 139783208229904&#45;&gt;139783208230336+ -->\n<g id=\"edge25\" class=\"edge\">\n<title>139783208229904&#45;&gt;139783208230336+</title>\n<path fill=\"none\" stroke=\"black\" d=\"M540.4,-139.77C549.72,-138.21 558.65,-136.72 566.68,-135.39\"/>\n<polygon fill=\"black\" stroke=\"black\" points=\"567.38,-138.82 576.66,-133.72 566.22,-131.91 567.38,-138.82\"/>\n</g>\n<!-- 139783208229904*&#45;&gt;139783208229904 -->\n<g id=\"edge1\" class=\"edge\">\n<title>139783208229904*&#45;&gt;139783208229904</title>\n<path fill=\"none\" stroke=\"black\" d=\"M290.25,-157.5C297.7,-157.5 306.34,-157.5 315.59,-157.5\"/>\n<polygon fill=\"black\" stroke=\"black\" points=\"315.84,-161 325.84,-157.5 315.84,-154 315.84,-161\"/>\n</g>\n<!-- 139783208347680 -->\n<g id=\"node4\" class=\"node\">\n<title>139783208347680</title>\n<polygon fill=\"none\" stroke=\"black\" points=\"2716,-54.5 2716,-90.5 2901,-90.5 2901,-54.5 2716,-54.5\"/>\n<text text-anchor=\"middle\" x=\"2727.5\" y=\"-68.8\" font-family=\"Times,serif\" font-size=\"14.00\">o</text>\n<polyline fill=\"none\" stroke=\"black\" points=\"2739,-54.5 2739,-90.5 \"/>\n<text text-anchor=\"middle\" x=\"2779\" y=\"-68.8\" font-family=\"Times,serif\" font-size=\"14.00\">data 0.7071</text>\n<polyline fill=\"none\" stroke=\"black\" points=\"2819,-54.5 2819,-90.5 \"/>\n<text text-anchor=\"middle\" x=\"2860\" y=\"-68.8\" font-family=\"Times,serif\" font-size=\"14.00\">grad 1.0000</text>\n</g>\n<!-- 139783208347680* -->\n<g id=\"node5\" class=\"node\">\n<title>139783208347680*</title>\n<ellipse fill=\"none\" stroke=\"black\" cx=\"2653\" cy=\"-72.5\" rx=\"27\" ry=\"18\"/>\n<text text-anchor=\"middle\" x=\"2653\" y=\"-68.8\" font-family=\"Times,serif\" font-size=\"14.00\">*</text>\n</g>\n<!-- 139783208347680*&#45;&gt;139783208347680 -->\n<g id=\"edge2\" class=\"edge\">\n<title>139783208347680*&#45;&gt;139783208347680</title>\n<path fill=\"none\" stroke=\"black\" d=\"M2680.04,-72.5C2687.58,-72.5 2696.3,-72.5 2705.57,-72.5\"/>\n<polygon fill=\"black\" stroke=\"black\" points=\"2705.81,-76 2715.81,-72.5 2705.81,-69 2705.81,-76\"/>\n</g>\n<!-- 139783208348208 -->\n<g id=\"node6\" class=\"node\">\n<title>139783208348208</title>\n<polygon fill=\"none\" stroke=\"black\" points=\"1657.5,-55.5 1657.5,-91.5 1839.5,-91.5 1839.5,-55.5 1657.5,-55.5\"/>\n<text text-anchor=\"middle\" x=\"1667.5\" y=\"-69.8\" font-family=\"Times,serif\" font-size=\"14.00\"> </text>\n<polyline fill=\"none\" stroke=\"black\" points=\"1677.5,-55.5 1677.5,-91.5 \"/>\n<text text-anchor=\"middle\" x=\"1717.5\" y=\"-69.8\" font-family=\"Times,serif\" font-size=\"14.00\">data 5.8284</text>\n<polyline fill=\"none\" stroke=\"black\" points=\"1757.5,-55.5 1757.5,-91.5 \"/>\n<text text-anchor=\"middle\" x=\"1798.5\" y=\"-69.8\" font-family=\"Times,serif\" font-size=\"14.00\">grad 0.0429</text>\n</g>\n<!-- 139783208347488+ -->\n<g id=\"node21\" class=\"node\">\n<title>139783208347488+</title>\n<ellipse fill=\"none\" stroke=\"black\" cx=\"1905\" cy=\"-100.5\" rx=\"27\" ry=\"18\"/>\n<text text-anchor=\"middle\" x=\"1905\" y=\"-96.8\" font-family=\"Times,serif\" font-size=\"14.00\">+</text>\n</g>\n<!-- 139783208348208&#45;&gt;139783208347488+ -->\n<g id=\"edge27\" class=\"edge\">\n<title>139783208348208&#45;&gt;139783208347488+</title>\n<path fill=\"none\" stroke=\"black\" d=\"M1839.82,-89.28C1850.07,-91.08 1860.01,-92.81 1868.88,-94.36\"/>\n<polygon fill=\"black\" stroke=\"black\" points=\"1868.3,-97.81 1878.75,-96.09 1869.5,-90.92 1868.3,-97.81\"/>\n</g>\n<!-- 139783208348064+ -->\n<g id=\"node24\" class=\"node\">\n<title>139783208348064+</title>\n<ellipse fill=\"none\" stroke=\"black\" cx=\"1905\" cy=\"-45.5\" rx=\"27\" ry=\"18\"/>\n<text text-anchor=\"middle\" x=\"1905\" y=\"-41.8\" font-family=\"Times,serif\" font-size=\"14.00\">+</text>\n</g>\n<!-- 139783208348208&#45;&gt;139783208348064+ -->\n<g id=\"edge16\" class=\"edge\">\n<title>139783208348208&#45;&gt;139783208348064+</title>\n<path fill=\"none\" stroke=\"black\" d=\"M1839.82,-57.13C1850.07,-55.27 1860.01,-53.47 1868.88,-51.87\"/>\n<polygon fill=\"black\" stroke=\"black\" points=\"1869.54,-55.3 1878.75,-50.08 1868.29,-48.42 1869.54,-55.3\"/>\n</g>\n<!-- 139783208348208exp -->\n<g id=\"node7\" class=\"node\">\n<title>139783208348208exp</title>\n<ellipse fill=\"none\" stroke=\"black\" cx=\"1592\" cy=\"-73.5\" rx=\"27\" ry=\"18\"/>\n<text text-anchor=\"middle\" x=\"1592\" y=\"-69.8\" font-family=\"Times,serif\" font-size=\"14.00\">exp</text>\n</g>\n<!-- 139783208348208exp&#45;&gt;139783208348208 -->\n<g id=\"edge3\" class=\"edge\">\n<title>139783208348208exp&#45;&gt;139783208348208</title>\n<path fill=\"none\" stroke=\"black\" d=\"M1619.21,-73.5C1627.34,-73.5 1636.85,-73.5 1646.94,-73.5\"/>\n<polygon fill=\"black\" stroke=\"black\" points=\"1647.19,-77 1657.19,-73.5 1647.19,-70 1647.19,-77\"/>\n</g>\n<!-- 139782701086224 -->\n<g id=\"node8\" class=\"node\">\n<title>139782701086224</title>\n<polygon fill=\"none\" stroke=\"black\" points=\"4,-84.5 4,-120.5 196,-120.5 196,-84.5 4,-84.5\"/>\n<text text-anchor=\"middle\" x=\"19\" y=\"-98.8\" font-family=\"Times,serif\" font-size=\"14.00\">x2</text>\n<polyline fill=\"none\" stroke=\"black\" points=\"34,-84.5 34,-120.5 \"/>\n<text text-anchor=\"middle\" x=\"74\" y=\"-98.8\" font-family=\"Times,serif\" font-size=\"14.00\">data 0.0000</text>\n<polyline fill=\"none\" stroke=\"black\" points=\"114,-84.5 114,-120.5 \"/>\n<text text-anchor=\"middle\" x=\"155\" y=\"-98.8\" font-family=\"Times,serif\" font-size=\"14.00\">grad 0.5000</text>\n</g>\n<!-- 139783208229712* -->\n<g id=\"node19\" class=\"node\">\n<title>139783208229712*</title>\n<ellipse fill=\"none\" stroke=\"black\" cx=\"263\" cy=\"-102.5\" rx=\"27\" ry=\"18\"/>\n<text text-anchor=\"middle\" x=\"263\" y=\"-98.8\" font-family=\"Times,serif\" font-size=\"14.00\">*</text>\n</g>\n<!-- 139782701086224&#45;&gt;139783208229712* -->\n<g id=\"edge12\" class=\"edge\">\n<title>139782701086224&#45;&gt;139783208229712*</title>\n<path fill=\"none\" stroke=\"black\" d=\"M196.05,-102.5C206.52,-102.5 216.65,-102.5 225.71,-102.5\"/>\n<polygon fill=\"black\" stroke=\"black\" points=\"225.79,-106 235.79,-102.5 225.79,-99 225.79,-106\"/>\n</g>\n<!-- 139783208346720 -->\n<g id=\"node9\" class=\"node\">\n<title>139783208346720</title>\n<polygon fill=\"none\" stroke=\"black\" points=\"2408,-31.5 2408,-67.5 2590,-67.5 2590,-31.5 2408,-31.5\"/>\n<text text-anchor=\"middle\" x=\"2418\" y=\"-45.8\" font-family=\"Times,serif\" font-size=\"14.00\"> </text>\n<polyline fill=\"none\" stroke=\"black\" points=\"2428,-31.5 2428,-67.5 \"/>\n<text text-anchor=\"middle\" x=\"2468\" y=\"-45.8\" font-family=\"Times,serif\" font-size=\"14.00\">data 0.1464</text>\n<polyline fill=\"none\" stroke=\"black\" points=\"2508,-31.5 2508,-67.5 \"/>\n<text text-anchor=\"middle\" x=\"2549\" y=\"-45.8\" font-family=\"Times,serif\" font-size=\"14.00\">grad 4.8284</text>\n</g>\n<!-- 139783208346720&#45;&gt;139783208347680* -->\n<g id=\"edge19\" class=\"edge\">\n<title>139783208346720&#45;&gt;139783208347680*</title>\n<path fill=\"none\" stroke=\"black\" d=\"M2590.18,-63.15C2599.42,-64.54 2608.38,-65.9 2616.47,-67.12\"/>\n<polygon fill=\"black\" stroke=\"black\" points=\"2616.15,-70.61 2626.56,-68.65 2617.19,-63.69 2616.15,-70.61\"/>\n</g>\n<!-- 139783208346720**&#45;1 -->\n<g id=\"node10\" class=\"node\">\n<title>139783208346720**&#45;1</title>\n<ellipse fill=\"none\" stroke=\"black\" cx=\"2281\" cy=\"-45.5\" rx=\"27\" ry=\"18\"/>\n<text text-anchor=\"middle\" x=\"2281\" y=\"-41.8\" font-family=\"Times,serif\" font-size=\"14.00\">**&#45;1</text>\n</g>\n<!-- 139783208346720**&#45;1&#45;&gt;139783208346720 -->\n<g id=\"edge4\" class=\"edge\">\n<title>139783208346720**&#45;1&#45;&gt;139783208346720</title>\n<path fill=\"none\" stroke=\"black\" d=\"M2308.05,-45.98C2330.53,-46.4 2364.48,-47.03 2397.5,-47.64\"/>\n<polygon fill=\"black\" stroke=\"black\" points=\"2397.64,-51.14 2407.7,-47.83 2397.77,-44.14 2397.64,-51.14\"/>\n</g>\n<!-- 139783208347248 -->\n<g id=\"node11\" class=\"node\">\n<title>139783208347248</title>\n<polygon fill=\"none\" stroke=\"black\" points=\"1037.5,-28.5 1037.5,-64.5 1219.5,-64.5 1219.5,-28.5 1037.5,-28.5\"/>\n<text text-anchor=\"middle\" x=\"1047.5\" y=\"-42.8\" font-family=\"Times,serif\" font-size=\"14.00\"> </text>\n<polyline fill=\"none\" stroke=\"black\" points=\"1057.5,-28.5 1057.5,-64.5 \"/>\n<text text-anchor=\"middle\" x=\"1097.5\" y=\"-42.8\" font-family=\"Times,serif\" font-size=\"14.00\">data 2.0000</text>\n<polyline fill=\"none\" stroke=\"black\" points=\"1137.5,-28.5 1137.5,-64.5 \"/>\n<text text-anchor=\"middle\" x=\"1178.5\" y=\"-42.8\" font-family=\"Times,serif\" font-size=\"14.00\">grad 0.2203</text>\n</g>\n<!-- 139783208347824* -->\n<g id=\"node14\" class=\"node\">\n<title>139783208347824*</title>\n<ellipse fill=\"none\" stroke=\"black\" cx=\"1284\" cy=\"-73.5\" rx=\"27\" ry=\"18\"/>\n<text text-anchor=\"middle\" x=\"1284\" y=\"-69.8\" font-family=\"Times,serif\" font-size=\"14.00\">*</text>\n</g>\n<!-- 139783208347248&#45;&gt;139783208347824* -->\n<g id=\"edge26\" class=\"edge\">\n<title>139783208347248&#45;&gt;139783208347824*</title>\n<path fill=\"none\" stroke=\"black\" d=\"M1219.68,-62.36C1229.61,-64.11 1239.23,-65.8 1247.84,-67.32\"/>\n<polygon fill=\"black\" stroke=\"black\" points=\"1247.36,-70.78 1257.81,-69.07 1248.57,-63.89 1247.36,-70.78\"/>\n</g>\n<!-- 139782701084832 -->\n<g id=\"node12\" class=\"node\">\n<title>139782701084832</title>\n<polygon fill=\"none\" stroke=\"black\" points=\"2,-139.5 2,-175.5 198,-175.5 198,-139.5 2,-139.5\"/>\n<text text-anchor=\"middle\" x=\"17\" y=\"-153.8\" font-family=\"Times,serif\" font-size=\"14.00\">x1</text>\n<polyline fill=\"none\" stroke=\"black\" points=\"32,-139.5 32,-175.5 \"/>\n<text text-anchor=\"middle\" x=\"72\" y=\"-153.8\" font-family=\"Times,serif\" font-size=\"14.00\">data 2.0000</text>\n<polyline fill=\"none\" stroke=\"black\" points=\"112,-139.5 112,-175.5 \"/>\n<text text-anchor=\"middle\" x=\"155\" y=\"-153.8\" font-family=\"Times,serif\" font-size=\"14.00\">grad &#45;1.5000</text>\n</g>\n<!-- 139782701084832&#45;&gt;139783208229904* -->\n<g id=\"edge21\" class=\"edge\">\n<title>139782701084832&#45;&gt;139783208229904*</title>\n<path fill=\"none\" stroke=\"black\" d=\"M198.37,-157.5C208.05,-157.5 217.4,-157.5 225.8,-157.5\"/>\n<polygon fill=\"black\" stroke=\"black\" points=\"225.91,-161 235.91,-157.5 225.91,-154 225.91,-161\"/>\n</g>\n<!-- 139783208347824 -->\n<g id=\"node13\" class=\"node\">\n<title>139783208347824</title>\n<polygon fill=\"none\" stroke=\"black\" points=\"1347,-55.5 1347,-91.5 1529,-91.5 1529,-55.5 1347,-55.5\"/>\n<text text-anchor=\"middle\" x=\"1357\" y=\"-69.8\" font-family=\"Times,serif\" font-size=\"14.00\"> </text>\n<polyline fill=\"none\" stroke=\"black\" points=\"1367,-55.5 1367,-91.5 \"/>\n<text text-anchor=\"middle\" x=\"1407\" y=\"-69.8\" font-family=\"Times,serif\" font-size=\"14.00\">data 1.7627</text>\n<polyline fill=\"none\" stroke=\"black\" points=\"1447,-55.5 1447,-91.5 \"/>\n<text text-anchor=\"middle\" x=\"1488\" y=\"-69.8\" font-family=\"Times,serif\" font-size=\"14.00\">grad 0.2500</text>\n</g>\n<!-- 139783208347824&#45;&gt;139783208348208exp -->\n<g id=\"edge14\" class=\"edge\">\n<title>139783208347824&#45;&gt;139783208348208exp</title>\n<path fill=\"none\" stroke=\"black\" d=\"M1529.18,-73.5C1538.14,-73.5 1546.83,-73.5 1554.73,-73.5\"/>\n<polygon fill=\"black\" stroke=\"black\" points=\"1554.96,-77 1564.96,-73.5 1554.96,-70 1554.96,-77\"/>\n</g>\n<!-- 139783208347824*&#45;&gt;139783208347824 -->\n<g id=\"edge5\" class=\"edge\">\n<title>139783208347824*&#45;&gt;139783208347824</title>\n<path fill=\"none\" stroke=\"black\" d=\"M1311.13,-73.5C1318.67,-73.5 1327.39,-73.5 1336.64,-73.5\"/>\n<polygon fill=\"black\" stroke=\"black\" points=\"1336.87,-77 1346.87,-73.5 1336.87,-70 1336.87,-77\"/>\n</g>\n<!-- 139782701085360 -->\n<g id=\"node15\" class=\"node\">\n<title>139782701085360</title>\n<polygon fill=\"none\" stroke=\"black\" points=\"2.5,-29.5 2.5,-65.5 197.5,-65.5 197.5,-29.5 2.5,-29.5\"/>\n<text text-anchor=\"middle\" x=\"19\" y=\"-43.8\" font-family=\"Times,serif\" font-size=\"14.00\">w2</text>\n<polyline fill=\"none\" stroke=\"black\" points=\"35.5,-29.5 35.5,-65.5 \"/>\n<text text-anchor=\"middle\" x=\"75.5\" y=\"-43.8\" font-family=\"Times,serif\" font-size=\"14.00\">data 1.0000</text>\n<polyline fill=\"none\" stroke=\"black\" points=\"115.5,-29.5 115.5,-65.5 \"/>\n<text text-anchor=\"middle\" x=\"156.5\" y=\"-43.8\" font-family=\"Times,serif\" font-size=\"14.00\">grad 0.0000</text>\n</g>\n<!-- 139782701085360&#45;&gt;139783208229712* -->\n<g id=\"edge17\" class=\"edge\">\n<title>139782701085360&#45;&gt;139783208229712*</title>\n<path fill=\"none\" stroke=\"black\" d=\"M169.28,-65.5C179.65,-68.61 190.16,-71.98 200,-75.5 210.28,-79.17 221.28,-83.74 231.11,-88.07\"/>\n<polygon fill=\"black\" stroke=\"black\" points=\"229.93,-91.37 240.48,-92.27 232.79,-84.99 229.93,-91.37\"/>\n</g>\n<!-- 139783208347392 -->\n<g id=\"node16\" class=\"node\">\n<title>139783208347392</title>\n<polygon fill=\"none\" stroke=\"black\" points=\"1655,-110.5 1655,-146.5 1842,-146.5 1842,-110.5 1655,-110.5\"/>\n<text text-anchor=\"middle\" x=\"1665\" y=\"-124.8\" font-family=\"Times,serif\" font-size=\"14.00\"> </text>\n<polyline fill=\"none\" stroke=\"black\" points=\"1675,-110.5 1675,-146.5 \"/>\n<text text-anchor=\"middle\" x=\"1717.5\" y=\"-124.8\" font-family=\"Times,serif\" font-size=\"14.00\">data &#45;1.0000</text>\n<polyline fill=\"none\" stroke=\"black\" points=\"1760,-110.5 1760,-146.5 \"/>\n<text text-anchor=\"middle\" x=\"1801\" y=\"-124.8\" font-family=\"Times,serif\" font-size=\"14.00\">grad 0.1464</text>\n</g>\n<!-- 139783208347392&#45;&gt;139783208347488+ -->\n<g id=\"edge18\" class=\"edge\">\n<title>139783208347392&#45;&gt;139783208347488+</title>\n<path fill=\"none\" stroke=\"black\" d=\"M1842.05,-111.73C1851.54,-110.01 1860.71,-108.35 1868.95,-106.85\"/>\n<polygon fill=\"black\" stroke=\"black\" points=\"1869.64,-110.28 1878.85,-105.06 1868.39,-103.4 1869.64,-110.28\"/>\n</g>\n<!-- 139783208230672 -->\n<g id=\"node17\" class=\"node\">\n<title>139783208230672</title>\n<polygon fill=\"none\" stroke=\"black\" points=\"695.5,-56.5 695.5,-92.5 880.5,-92.5 880.5,-56.5 695.5,-56.5\"/>\n<text text-anchor=\"middle\" x=\"707\" y=\"-70.8\" font-family=\"Times,serif\" font-size=\"14.00\">b</text>\n<polyline fill=\"none\" stroke=\"black\" points=\"718.5,-56.5 718.5,-92.5 \"/>\n<text text-anchor=\"middle\" x=\"758.5\" y=\"-70.8\" font-family=\"Times,serif\" font-size=\"14.00\">data 6.8814</text>\n<polyline fill=\"none\" stroke=\"black\" points=\"798.5,-56.5 798.5,-92.5 \"/>\n<text text-anchor=\"middle\" x=\"839.5\" y=\"-70.8\" font-family=\"Times,serif\" font-size=\"14.00\">grad 0.5000</text>\n</g>\n<!-- 139783208348112+ -->\n<g id=\"node28\" class=\"node\">\n<title>139783208348112+</title>\n<ellipse fill=\"none\" stroke=\"black\" cx=\"973\" cy=\"-101.5\" rx=\"27\" ry=\"18\"/>\n<text text-anchor=\"middle\" x=\"973\" y=\"-97.8\" font-family=\"Times,serif\" font-size=\"14.00\">+</text>\n</g>\n<!-- 139783208230672&#45;&gt;139783208348112+ -->\n<g id=\"edge20\" class=\"edge\">\n<title>139783208230672&#45;&gt;139783208348112+</title>\n<path fill=\"none\" stroke=\"black\" d=\"M880.77,-88.04C900.52,-90.95 920.26,-93.87 936.29,-96.23\"/>\n<polygon fill=\"black\" stroke=\"black\" points=\"935.86,-99.71 946.26,-97.7 936.88,-92.78 935.86,-99.71\"/>\n</g>\n<!-- 139783208229712 -->\n<g id=\"node18\" class=\"node\">\n<title>139783208229712</title>\n<polygon fill=\"none\" stroke=\"black\" points=\"328.5,-84.5 328.5,-120.5 537.5,-120.5 537.5,-84.5 328.5,-84.5\"/>\n<text text-anchor=\"middle\" x=\"352\" y=\"-98.8\" font-family=\"Times,serif\" font-size=\"14.00\">x2w2</text>\n<polyline fill=\"none\" stroke=\"black\" points=\"375.5,-84.5 375.5,-120.5 \"/>\n<text text-anchor=\"middle\" x=\"415.5\" y=\"-98.8\" font-family=\"Times,serif\" font-size=\"14.00\">data 0.0000</text>\n<polyline fill=\"none\" stroke=\"black\" points=\"455.5,-84.5 455.5,-120.5 \"/>\n<text text-anchor=\"middle\" x=\"496.5\" y=\"-98.8\" font-family=\"Times,serif\" font-size=\"14.00\">grad 0.5000</text>\n</g>\n<!-- 139783208229712&#45;&gt;139783208230336+ -->\n<g id=\"edge23\" class=\"edge\">\n<title>139783208229712&#45;&gt;139783208230336+</title>\n<path fill=\"none\" stroke=\"black\" d=\"M537.53,-119.14C547.8,-120.79 557.66,-122.37 566.45,-123.79\"/>\n<polygon fill=\"black\" stroke=\"black\" points=\"566.16,-127.28 576.59,-125.42 567.27,-120.37 566.16,-127.28\"/>\n</g>\n<!-- 139783208229712*&#45;&gt;139783208229712 -->\n<g id=\"edge6\" class=\"edge\">\n<title>139783208229712*&#45;&gt;139783208229712</title>\n<path fill=\"none\" stroke=\"black\" d=\"M290.25,-102.5C298.43,-102.5 308.03,-102.5 318.31,-102.5\"/>\n<polygon fill=\"black\" stroke=\"black\" points=\"318.35,-106 328.35,-102.5 318.35,-99 318.35,-106\"/>\n</g>\n<!-- 139783208347488 -->\n<g id=\"node20\" class=\"node\">\n<title>139783208347488</title>\n<polygon fill=\"none\" stroke=\"black\" points=\"2190,-82.5 2190,-118.5 2372,-118.5 2372,-82.5 2190,-82.5\"/>\n<text text-anchor=\"middle\" x=\"2200\" y=\"-96.8\" font-family=\"Times,serif\" font-size=\"14.00\"> </text>\n<polyline fill=\"none\" stroke=\"black\" points=\"2210,-82.5 2210,-118.5 \"/>\n<text text-anchor=\"middle\" x=\"2250\" y=\"-96.8\" font-family=\"Times,serif\" font-size=\"14.00\">data 4.8284</text>\n<polyline fill=\"none\" stroke=\"black\" points=\"2290,-82.5 2290,-118.5 \"/>\n<text text-anchor=\"middle\" x=\"2331\" y=\"-96.8\" font-family=\"Times,serif\" font-size=\"14.00\">grad 0.1464</text>\n</g>\n<!-- 139783208347488&#45;&gt;139783208347680* -->\n<g id=\"edge24\" class=\"edge\">\n<title>139783208347488&#45;&gt;139783208347680*</title>\n<path fill=\"none\" stroke=\"black\" d=\"M2372.31,-93.9C2433.7,-89.37 2516.76,-83.19 2590,-77.5 2598.42,-76.85 2607.48,-76.13 2616.01,-75.44\"/>\n<polygon fill=\"black\" stroke=\"black\" points=\"2616.37,-78.92 2626.06,-74.63 2615.81,-71.94 2616.37,-78.92\"/>\n</g>\n<!-- 139783208347488+&#45;&gt;139783208347488 -->\n<g id=\"edge7\" class=\"edge\">\n<title>139783208347488+&#45;&gt;139783208347488</title>\n<path fill=\"none\" stroke=\"black\" d=\"M1932,-100.5C1982.46,-100.5 2096.06,-100.5 2179.81,-100.5\"/>\n<polygon fill=\"black\" stroke=\"black\" points=\"2179.87,-104 2189.87,-100.5 2179.87,-97 2179.87,-104\"/>\n</g>\n<!-- 139783208348544 -->\n<g id=\"node22\" class=\"node\">\n<title>139783208348544</title>\n<polygon fill=\"none\" stroke=\"black\" points=\"1655.5,-0.5 1655.5,-36.5 1841.5,-36.5 1841.5,-0.5 1655.5,-0.5\"/>\n<text text-anchor=\"middle\" x=\"1665.5\" y=\"-14.8\" font-family=\"Times,serif\" font-size=\"14.00\"> </text>\n<polyline fill=\"none\" stroke=\"black\" points=\"1675.5,-0.5 1675.5,-36.5 \"/>\n<text text-anchor=\"middle\" x=\"1715.5\" y=\"-14.8\" font-family=\"Times,serif\" font-size=\"14.00\">data 1.0000</text>\n<polyline fill=\"none\" stroke=\"black\" points=\"1755.5,-0.5 1755.5,-36.5 \"/>\n<text text-anchor=\"middle\" x=\"1798.5\" y=\"-14.8\" font-family=\"Times,serif\" font-size=\"14.00\">grad &#45;0.1036</text>\n</g>\n<!-- 139783208348544&#45;&gt;139783208348064+ -->\n<g id=\"edge13\" class=\"edge\">\n<title>139783208348544&#45;&gt;139783208348064+</title>\n<path fill=\"none\" stroke=\"black\" d=\"M1841.6,-34.6C1851.15,-36.26 1860.37,-37.88 1868.68,-39.33\"/>\n<polygon fill=\"black\" stroke=\"black\" points=\"1868.2,-42.8 1878.65,-41.07 1869.4,-35.9 1868.2,-42.8\"/>\n</g>\n<!-- 139783208348064 -->\n<g id=\"node23\" class=\"node\">\n<title>139783208348064</title>\n<polygon fill=\"none\" stroke=\"black\" points=\"1968,-27.5 1968,-63.5 2154,-63.5 2154,-27.5 1968,-27.5\"/>\n<text text-anchor=\"middle\" x=\"1978\" y=\"-41.8\" font-family=\"Times,serif\" font-size=\"14.00\"> </text>\n<polyline fill=\"none\" stroke=\"black\" points=\"1988,-27.5 1988,-63.5 \"/>\n<text text-anchor=\"middle\" x=\"2028\" y=\"-41.8\" font-family=\"Times,serif\" font-size=\"14.00\">data 6.8284</text>\n<polyline fill=\"none\" stroke=\"black\" points=\"2068,-27.5 2068,-63.5 \"/>\n<text text-anchor=\"middle\" x=\"2111\" y=\"-41.8\" font-family=\"Times,serif\" font-size=\"14.00\">grad &#45;0.1036</text>\n</g>\n<!-- 139783208348064&#45;&gt;139783208346720**&#45;1 -->\n<g id=\"edge15\" class=\"edge\">\n<title>139783208348064&#45;&gt;139783208346720**&#45;1</title>\n<path fill=\"none\" stroke=\"black\" d=\"M2154.14,-45.5C2185.72,-45.5 2219.24,-45.5 2243.74,-45.5\"/>\n<polygon fill=\"black\" stroke=\"black\" points=\"2243.98,-49 2253.98,-45.5 2243.98,-42 2243.98,-49\"/>\n</g>\n<!-- 139783208348064+&#45;&gt;139783208348064 -->\n<g id=\"edge8\" class=\"edge\">\n<title>139783208348064+&#45;&gt;139783208348064</title>\n<path fill=\"none\" stroke=\"black\" d=\"M1932.12,-45.5C1939.62,-45.5 1948.29,-45.5 1957.5,-45.5\"/>\n<polygon fill=\"black\" stroke=\"black\" points=\"1957.69,-49 1967.69,-45.5 1957.69,-42 1957.69,-49\"/>\n</g>\n<!-- 139783208230336 -->\n<g id=\"node25\" class=\"node\">\n<title>139783208230336</title>\n<polygon fill=\"none\" stroke=\"black\" points=\"666,-111.5 666,-147.5 910,-147.5 910,-111.5 666,-111.5\"/>\n<text text-anchor=\"middle\" x=\"704.5\" y=\"-125.8\" font-family=\"Times,serif\" font-size=\"14.00\">x1w1x2w2</text>\n<polyline fill=\"none\" stroke=\"black\" points=\"743,-111.5 743,-147.5 \"/>\n<text text-anchor=\"middle\" x=\"785.5\" y=\"-125.8\" font-family=\"Times,serif\" font-size=\"14.00\">data &#45;6.0000</text>\n<polyline fill=\"none\" stroke=\"black\" points=\"828,-111.5 828,-147.5 \"/>\n<text text-anchor=\"middle\" x=\"869\" y=\"-125.8\" font-family=\"Times,serif\" font-size=\"14.00\">grad 0.5000</text>\n</g>\n<!-- 139783208230336&#45;&gt;139783208348112+ -->\n<g id=\"edge11\" class=\"edge\">\n<title>139783208230336&#45;&gt;139783208348112+</title>\n<path fill=\"none\" stroke=\"black\" d=\"M906.71,-111.49C917.38,-109.86 927.53,-108.3 936.51,-106.93\"/>\n<polygon fill=\"black\" stroke=\"black\" points=\"937.13,-110.38 946.48,-105.4 936.07,-103.46 937.13,-110.38\"/>\n</g>\n<!-- 139783208230336+&#45;&gt;139783208230336 -->\n<g id=\"edge9\" class=\"edge\">\n<title>139783208230336+&#45;&gt;139783208230336</title>\n<path fill=\"none\" stroke=\"black\" d=\"M630.22,-129.5C637.7,-129.5 646.4,-129.5 655.79,-129.5\"/>\n<polygon fill=\"black\" stroke=\"black\" points=\"655.8,-133 665.8,-129.5 655.8,-126 655.8,-133\"/>\n</g>\n<!-- 139783208348112 -->\n<g id=\"node27\" class=\"node\">\n<title>139783208348112</title>\n<polygon fill=\"none\" stroke=\"black\" points=\"1036,-83.5 1036,-119.5 1221,-119.5 1221,-83.5 1036,-83.5\"/>\n<text text-anchor=\"middle\" x=\"1047.5\" y=\"-97.8\" font-family=\"Times,serif\" font-size=\"14.00\">n</text>\n<polyline fill=\"none\" stroke=\"black\" points=\"1059,-83.5 1059,-119.5 \"/>\n<text text-anchor=\"middle\" x=\"1099\" y=\"-97.8\" font-family=\"Times,serif\" font-size=\"14.00\">data 0.8814</text>\n<polyline fill=\"none\" stroke=\"black\" points=\"1139,-83.5 1139,-119.5 \"/>\n<text text-anchor=\"middle\" x=\"1180\" y=\"-97.8\" font-family=\"Times,serif\" font-size=\"14.00\">grad 0.5000</text>\n</g>\n<!-- 139783208348112&#45;&gt;139783208347824* -->\n<g id=\"edge28\" class=\"edge\">\n<title>139783208348112&#45;&gt;139783208347824*</title>\n<path fill=\"none\" stroke=\"black\" d=\"M1221.01,-84.81C1230.49,-83.08 1239.66,-81.41 1247.9,-79.9\"/>\n<polygon fill=\"black\" stroke=\"black\" points=\"1248.6,-83.33 1257.81,-78.09 1247.35,-76.45 1248.6,-83.33\"/>\n</g>\n<!-- 139783208348112+&#45;&gt;139783208348112 -->\n<g id=\"edge10\" class=\"edge\">\n<title>139783208348112+&#45;&gt;139783208348112</title>\n<path fill=\"none\" stroke=\"black\" d=\"M1000.04,-101.5C1007.58,-101.5 1016.3,-101.5 1025.57,-101.5\"/>\n<polygon fill=\"black\" stroke=\"black\" points=\"1025.81,-105 1035.81,-101.5 1025.81,-98 1025.81,-105\"/>\n</g>\n</g>\n</svg>\n"
          },
          "metadata": {},
          "execution_count": 31
        }
      ]
    },
    {
      "cell_type": "code",
      "source": [
        "import torch"
      ],
      "metadata": {
        "id": "UHcNm0vb46lP"
      },
      "execution_count": 32,
      "outputs": []
    },
    {
      "cell_type": "code",
      "source": [
        "x1 = torch.Tensor([2.0]).double();                         x1.requires_grad = True\n",
        "x2 = torch.Tensor([0.0]).double();                         x2.requires_grad = True\n",
        "w1 = torch.Tensor([-3.0]).double();                        w1.requires_grad = True\n",
        "w2 = torch.Tensor([1.0]).double();                         w2.requires_grad = True\n",
        "b = torch.Tensor([6.8813735870195432]).double();         b.requires_grad = True\n",
        "n = x1*w1 + x2*w2 + b\n",
        "o = torch.tanh(n)\n",
        "\n",
        "print(o.data.item())\n",
        "o.backward()\n",
        "\n",
        "print(\"----\")\n",
        "print('x2', x2.grad.item())\n",
        "print('w2', w2.grad.item())\n",
        "print('x1', x1.grad.item())\n",
        "print('w1', w1.grad.item())"
      ],
      "metadata": {
        "id": "RJJW0m8i46nV",
        "colab": {
          "base_uri": "https://localhost:8080/"
        },
        "outputId": "2156844c-d3a4-4d84-f79d-2f2e401ca5a9"
      },
      "execution_count": 34,
      "outputs": [
        {
          "output_type": "stream",
          "name": "stdout",
          "text": [
            "0.7071066904050358\n",
            "----\n",
            "x2 0.5000001283844369\n",
            "w2 0.0\n",
            "x1 -1.5000003851533106\n",
            "w1 1.0000002567688737\n"
          ]
        }
      ]
    },
    {
      "cell_type": "code",
      "source": [],
      "metadata": {
        "id": "KjLNJh3t46pr"
      },
      "execution_count": 9,
      "outputs": []
    },
    {
      "cell_type": "code",
      "source": [
        "import random\n",
        "\n",
        "class Neuron:\n",
        "  def __init__(self, nin):\n",
        "    # nin = number of inputs to a neuron\n",
        "    self.w = [Value(random.uniform(-1, 1)) for _ in range(nin)]\n",
        "    self.b = Value(random.uniform(-1, 1))\n",
        "\n",
        "  def __call__(self, x):\n",
        "    # w * x + b\n",
        "    act = sum((wi*xi for wi, xi in zip(self.w, x)), self.b)\n",
        "    out = act.tanh()\n",
        "    return out\n",
        "  \n",
        "  def parameters(self):\n",
        "    return self.w + [self.b]\n",
        "\n",
        "class Layer:\n",
        "  def __init__(self, nin, nout):\n",
        "    self.neurons = [Neuron(nin) for _ in range(nout)]\n",
        "\n",
        "  def __call__(self, x):\n",
        "    outs = [n(x) for n in self.neurons]\n",
        "    return outs[0] if len(outs) == 1 else outs\n",
        "\n",
        "  def parameters(self):\n",
        "    return [p for neuron in self.neurons for p in neuron.parameters()]    \n",
        "\n",
        "  \n",
        "class MLP: # MultiLayer Perceptron\n",
        "  def __init__(self, nin, nouts):\n",
        "    # nouts is a list of the sizes of each layer\n",
        "    sz = [nin] + nouts\n",
        "    self.layers = [Layer(sz[i], sz[i+1]) for i in range(len(nouts))]\n",
        "\n",
        "  def __call__(self, x):\n",
        "    for layer in self.layers:\n",
        "      x = layer(x)\n",
        "    return x\n",
        "\n",
        "  def parameters(self):\n",
        "    return [p for layer in self.layers for p in layer.parameters()]\n"
      ],
      "metadata": {
        "id": "5v_HQK2I_6Tu"
      },
      "execution_count": 109,
      "outputs": []
    },
    {
      "cell_type": "code",
      "source": [
        "x = [2.0, 3.0, -1.0]\n",
        "n = MLP(3, [4, 4, 1]) \n",
        "n(x)"
      ],
      "metadata": {
        "colab": {
          "base_uri": "https://localhost:8080/"
        },
        "id": "LGaphPyw_6WK",
        "outputId": "3d054911-f547-4782-a79f-5691a145e4f4"
      },
      "execution_count": 112,
      "outputs": [
        {
          "output_type": "execute_result",
          "data": {
            "text/plain": [
              "Value(data=0.417430590106069)"
            ]
          },
          "metadata": {},
          "execution_count": 112
        }
      ]
    },
    {
      "cell_type": "code",
      "source": [
        "draw_dot(n(x))"
      ],
      "metadata": {
        "id": "SpJVdifR_6Yr"
      },
      "execution_count": null,
      "outputs": []
    },
    {
      "cell_type": "code",
      "source": [
        "xs = [\n",
        "    [2.0, 3.0, -1.0], # desire 1.0 when fed these three examples\n",
        "    [3.0, -1.0, 0.5], # desire -1.0\n",
        "    [0.5, 1.0, 1.0],  # desire -1.0\n",
        "    [1.0, 1.0, -1.0], # desire 1.0\n",
        "]\n",
        "ys = [1.0, -1.0, -1.0, 1.0] # desired targets\n",
        "ypred = [n(x) for x in xs]\n",
        "ypred"
      ],
      "metadata": {
        "colab": {
          "base_uri": "https://localhost:8080/"
        },
        "id": "33wa-sDs_6bZ",
        "outputId": "440987be-6d62-4aed-ad82-e8cc48d8e553"
      },
      "execution_count": 150,
      "outputs": [
        {
          "output_type": "execute_result",
          "data": {
            "text/plain": [
              "[Value(data=-0.18130571105647156),\n",
              " Value(data=-0.1846505907673353),\n",
              " Value(data=-0.25382036290617827),\n",
              " Value(data=0.3567165223887841)]"
            ]
          },
          "metadata": {},
          "execution_count": 150
        }
      ]
    },
    {
      "cell_type": "code",
      "source": [
        "# LOSS\n",
        "\n",
        "\"\"\"\n",
        "Value(data=0.5310120727506463),      ==> should be 1.0\n",
        " Value(data=-0.25815736605298417),   ==> should be -1.0\n",
        " Value(data=0.42871258953854874),    ==> should be -1.0\n",
        " Value(data=0.5548864532459099)      ==> should be 1.0\n",
        "\"\"\""
      ],
      "metadata": {
        "id": "ZpC4sfceHP6F"
      },
      "execution_count": null,
      "outputs": []
    },
    {
      "cell_type": "code",
      "source": [
        "# ygt = Y-ground-truth???\n",
        "individual_losses = [(yout - ygt)**2 for ygt, yout, in zip(ys, ypred)]\n",
        "individual_losses"
      ],
      "metadata": {
        "colab": {
          "base_uri": "https://localhost:8080/"
        },
        "id": "_p4E-pt2HP3K",
        "outputId": "9cf182ec-103d-47e1-8865-0b3ad351ae8c"
      },
      "execution_count": 95,
      "outputs": [
        {
          "output_type": "execute_result",
          "data": {
            "text/plain": [
              "[Value(data=0.21994967590564504),\n",
              " Value(data=0.5503304935414463),\n",
              " Value(data=2.041219663505945),\n",
              " Value(data=0.19812606950400555)]"
            ]
          },
          "metadata": {},
          "execution_count": 95
        }
      ]
    },
    {
      "cell_type": "code",
      "source": [
        "# Why do I get an error when I try this???\n",
        "# ah well, see next cell\n",
        "\n",
        "loss = sum(individual_losses)"
      ],
      "metadata": {
        "colab": {
          "base_uri": "https://localhost:8080/",
          "height": 169
        },
        "id": "QZ-FnG2QHP0j",
        "outputId": "c68f75ec-590d-431b-f95f-dd8a4b33d6c7"
      },
      "execution_count": 97,
      "outputs": [
        {
          "output_type": "error",
          "ename": "TypeError",
          "evalue": "ignored",
          "traceback": [
            "\u001b[0;31m---------------------------------------------------------------------------\u001b[0m",
            "\u001b[0;31mTypeError\u001b[0m                                 Traceback (most recent call last)",
            "\u001b[0;32m<ipython-input-97-28c87cfae4fd>\u001b[0m in \u001b[0;36m<module>\u001b[0;34m\u001b[0m\n\u001b[0;32m----> 1\u001b[0;31m \u001b[0mloss\u001b[0m \u001b[0;34m=\u001b[0m \u001b[0msum\u001b[0m\u001b[0;34m(\u001b[0m\u001b[0mindividual_losses\u001b[0m\u001b[0;34m)\u001b[0m\u001b[0;34m\u001b[0m\u001b[0;34m\u001b[0m\u001b[0m\n\u001b[0m",
            "\u001b[0;31mTypeError\u001b[0m: unsupported operand type(s) for +: 'int' and 'Value'"
          ]
        }
      ]
    },
    {
      "cell_type": "code",
      "source": [
        "loss = individual_losses[0] + individual_losses[1] + individual_losses[2] + individual_losses[3]\n",
        "loss"
      ],
      "metadata": {
        "colab": {
          "base_uri": "https://localhost:8080/"
        },
        "id": "GFZ9VTp2HPyN",
        "outputId": "f71c94be-f5db-43bc-cb4e-a5dfd4bcb3f5"
      },
      "execution_count": 102,
      "outputs": [
        {
          "output_type": "execute_result",
          "data": {
            "text/plain": [
              "Value(data=3.009625902457042)"
            ]
          },
          "metadata": {},
          "execution_count": 102
        }
      ]
    },
    {
      "cell_type": "code",
      "source": [
        "loss.backward()"
      ],
      "metadata": {
        "id": "uSWssmVgHPvf"
      },
      "execution_count": 116,
      "outputs": []
    },
    {
      "cell_type": "code",
      "source": [
        "n.layers[0].neurons[0].w[0].grad # this neuron is somewhat positive, so decreasing this weight somewhat should help"
      ],
      "metadata": {
        "colab": {
          "base_uri": "https://localhost:8080/"
        },
        "id": "c6szkVzY_6dk",
        "outputId": "31304859-6e79-485c-e171-62d91c254c63"
      },
      "execution_count": 107,
      "outputs": [
        {
          "output_type": "execute_result",
          "data": {
            "text/plain": [
              "0.32849823354852015"
            ]
          },
          "metadata": {},
          "execution_count": 107
        }
      ]
    },
    {
      "cell_type": "code",
      "source": [],
      "metadata": {
        "id": "Gmomr1K_Igyc"
      },
      "execution_count": 108,
      "outputs": []
    },
    {
      "cell_type": "code",
      "source": [],
      "metadata": {
        "id": "c9Avg_t7IiH2"
      },
      "execution_count": null,
      "outputs": []
    },
    {
      "cell_type": "code",
      "source": [
        "n.parameters()"
      ],
      "metadata": {
        "colab": {
          "base_uri": "https://localhost:8080/"
        },
        "id": "63pW0kLkIilB",
        "outputId": "bda0863e-0b03-44d3-c00f-433f0462ff09"
      },
      "execution_count": 117,
      "outputs": [
        {
          "output_type": "execute_result",
          "data": {
            "text/plain": [
              "[Value(data=0.0730765816731882),\n",
              " Value(data=0.08152796077920521),\n",
              " Value(data=0.28183141238352927),\n",
              " Value(data=0.610503280607251),\n",
              " Value(data=-0.951045900078404),\n",
              " Value(data=0.060435700178231855),\n",
              " Value(data=-0.8555439460361101),\n",
              " Value(data=0.7434858148242538),\n",
              " Value(data=0.8238108922217553),\n",
              " Value(data=-0.6207200138181648),\n",
              " Value(data=-0.43299525169792963),\n",
              " Value(data=-0.07636796951225189),\n",
              " Value(data=-0.7078256857330616),\n",
              " Value(data=-0.05796044705818115),\n",
              " Value(data=-0.4768332567725797),\n",
              " Value(data=-0.01543082713402022),\n",
              " Value(data=0.8972674658128084),\n",
              " Value(data=0.9044236910757657),\n",
              " Value(data=-0.24541062539466552),\n",
              " Value(data=0.9568757770792469),\n",
              " Value(data=0.8049315041903711),\n",
              " Value(data=-0.18228477539821797),\n",
              " Value(data=-0.5188763757524579),\n",
              " Value(data=-0.9848352053582943),\n",
              " Value(data=-0.38941440353744894),\n",
              " Value(data=-0.4888485986811866),\n",
              " Value(data=0.7231433158590181),\n",
              " Value(data=0.9461096774071396),\n",
              " Value(data=0.08217605026338592),\n",
              " Value(data=0.8350431333994119),\n",
              " Value(data=-0.6058152829512626),\n",
              " Value(data=-0.54907788644678),\n",
              " Value(data=-0.003066170272860269),\n",
              " Value(data=0.30185429544523745),\n",
              " Value(data=-0.8775778987413676),\n",
              " Value(data=-0.12323905598082363),\n",
              " Value(data=-0.1804645544737129),\n",
              " Value(data=-0.2668935920732183),\n",
              " Value(data=-0.49517563099084505),\n",
              " Value(data=-0.7144521678201949),\n",
              " Value(data=0.26557922959904556)]"
            ]
          },
          "metadata": {},
          "execution_count": 117
        }
      ]
    },
    {
      "cell_type": "code",
      "source": [
        "# let's try to optimize\n",
        "for p in n.parameters():\n",
        "  p.data += -0.01 * p.grad\n"
      ],
      "metadata": {
        "id": "GzMIjgD1IioE"
      },
      "execution_count": 137,
      "outputs": []
    },
    {
      "cell_type": "code",
      "source": [
        "ypred = [n(x) for x in xs]\n",
        "individual_losses = [(yout - ygt)**2 for ygt, yout, in zip(ys, ypred)]\n",
        "loss = individual_losses[0] + individual_losses[1] + individual_losses[2] + individual_losses[3]\n",
        "loss"
      ],
      "metadata": {
        "colab": {
          "base_uri": "https://localhost:8080/"
        },
        "id": "_A5zVJRmIiqe",
        "outputId": "787a3e54-034c-4be6-b80e-f1824509ec83"
      },
      "execution_count": 138,
      "outputs": [
        {
          "output_type": "execute_result",
          "data": {
            "text/plain": [
              "Value(data=3.0308755254917386)"
            ]
          },
          "metadata": {},
          "execution_count": 138
        }
      ]
    },
    {
      "cell_type": "code",
      "source": [
        "# iterate over the two steps above\n",
        "# loss = Value(data=5.434210940349174)\n",
        "# loss = Value(data=5.434210940349174)\n",
        "# loss = Value(data=4.6967107317207315)\n",
        "# loss = Value(data=4.343179819706409)\n",
        "# loss = Value(data=3.7188337650129175)\n",
        "# loss = Value(data=3.2672941309168038)\n",
        "# loss = Value(data=3.1215338972012923)\n"
      ],
      "metadata": {
        "id": "Rhg3b1FtK97Z"
      },
      "execution_count": 139,
      "outputs": []
    },
    {
      "cell_type": "code",
      "source": [
        "# you have to find the right step size\n",
        "# too low: you'll take forever to converge\n",
        "# too high: you'll destabilize and overshoot --> you can only find out about LOCAL minimums, so we can't assume the grads will stay the same over a larger step"
      ],
      "metadata": {
        "id": "YCzGwFfjK94x"
      },
      "execution_count": null,
      "outputs": []
    },
    {
      "cell_type": "code",
      "source": [],
      "metadata": {
        "id": "oxZonTIZK91y"
      },
      "execution_count": null,
      "outputs": []
    },
    {
      "cell_type": "code",
      "source": [
        "for k in range(10):\n",
        "  # forward pass\n",
        "  ypred = [n(x) for x in xs]\n",
        "  loss = sum((yout - ygt)**2 for ygt, yout, in zip(ys, ypred)) # BUT I CAN'T SUM\n",
        "\n",
        "  # backward pass\n",
        "  for p in n.parameters():\n",
        "    p.grad = 0\n",
        "  loss.backward()\n",
        "\n",
        "  # update\n",
        "  for p in n.parameters():\n",
        "    p.data += -0.05 * p.grad\n",
        "\n",
        "  print(k, loss.data)"
      ],
      "metadata": {
        "colab": {
          "base_uri": "https://localhost:8080/"
        },
        "id": "wzh9h-MfK9tm",
        "outputId": "66dbe862-681e-4fa9-c7b8-901786b23c90"
      },
      "execution_count": 153,
      "outputs": [
        {
          "output_type": "stream",
          "name": "stdout",
          "text": [
            "0 0.02908061691230791\n",
            "1 0.027487172084796004\n",
            "2 0.026053199292431058\n",
            "3 0.02475623432530628\n",
            "4 0.02357781150553871\n",
            "5 0.022502616002399868\n",
            "6 0.02151784237066703\n",
            "7 0.020612703186864118\n",
            "8 0.019778048434471108\n",
            "9 0.019006067634018867\n"
          ]
        }
      ]
    },
    {
      "cell_type": "code",
      "source": [
        "Value(3) + Value(5)"
      ],
      "metadata": {
        "colab": {
          "base_uri": "https://localhost:8080/"
        },
        "id": "TXm4miVyMkZs",
        "outputId": "0f1036dd-debf-44ef-d1c4-7e7b6e8db704"
      },
      "execution_count": 144,
      "outputs": [
        {
          "output_type": "execute_result",
          "data": {
            "text/plain": [
              "Value(data=8)"
            ]
          },
          "metadata": {},
          "execution_count": 144
        }
      ]
    },
    {
      "cell_type": "code",
      "source": [],
      "metadata": {
        "id": "iTUMoF-8NIQk"
      },
      "execution_count": null,
      "outputs": []
    },
    {
      "cell_type": "code",
      "source": [],
      "metadata": {
        "id": "GOwd1M0TNINl"
      },
      "execution_count": null,
      "outputs": []
    },
    {
      "cell_type": "code",
      "source": [],
      "metadata": {
        "id": "oObW-qI2NIHr"
      },
      "execution_count": null,
      "outputs": []
    },
    {
      "cell_type": "code",
      "source": [
        "sum([Value(3), Value(5)])"
      ],
      "metadata": {
        "colab": {
          "base_uri": "https://localhost:8080/",
          "height": 169
        },
        "id": "ENGE-QUFK9pT",
        "outputId": "2665f74c-268d-4682-b317-f612dd6dc168"
      },
      "execution_count": 143,
      "outputs": [
        {
          "output_type": "error",
          "ename": "TypeError",
          "evalue": "ignored",
          "traceback": [
            "\u001b[0;31m---------------------------------------------------------------------------\u001b[0m",
            "\u001b[0;31mTypeError\u001b[0m                                 Traceback (most recent call last)",
            "\u001b[0;32m<ipython-input-143-0a4e9a03b384>\u001b[0m in \u001b[0;36m<module>\u001b[0;34m\u001b[0m\n\u001b[0;32m----> 1\u001b[0;31m \u001b[0msum\u001b[0m\u001b[0;34m(\u001b[0m\u001b[0;34m[\u001b[0m\u001b[0mValue\u001b[0m\u001b[0;34m(\u001b[0m\u001b[0;36m3\u001b[0m\u001b[0;34m)\u001b[0m\u001b[0;34m,\u001b[0m \u001b[0mValue\u001b[0m\u001b[0;34m(\u001b[0m\u001b[0;36m5\u001b[0m\u001b[0;34m)\u001b[0m\u001b[0;34m]\u001b[0m\u001b[0;34m)\u001b[0m\u001b[0;34m\u001b[0m\u001b[0;34m\u001b[0m\u001b[0m\n\u001b[0m",
            "\u001b[0;31mTypeError\u001b[0m: unsupported operand type(s) for +: 'int' and 'Value'"
          ]
        }
      ]
    }
  ]
}